{
 "cells": [
  {
   "cell_type": "code",
   "execution_count": 1,
   "metadata": {},
   "outputs": [],
   "source": [
    "import json\n",
    "import numpy as np"
   ]
  },
  {
   "cell_type": "markdown",
   "metadata": {},
   "source": [
    "Load the CIFAR-10 structures testing accuracy, valid accuracy, parameter sizes."
   ]
  },
  {
   "cell_type": "code",
   "execution_count": 2,
   "metadata": {},
   "outputs": [],
   "source": [
    "with open('../data/all_structure_accuracy.json') as tt:\n",
    "    structure = json.load(tt)\n",
    "structure_dict = {}\n",
    "for s,acc in structure:\n",
    "    structure_dict[str(s)] = acc\n",
    "with open('../data/all_structure_valid_accuracy.json') as tt:\n",
    "    structure = json.load(tt)\n",
    "structure_dict_valid = {}\n",
    "for s,acc in structure:\n",
    "    structure_dict_valid[str(s)] = acc\n",
    "with open('../data/all_structure_params.json') as tt:\n",
    "    structure = json.load(tt)\n",
    "params_dict = {}\n",
    "for s,acc in structure:\n",
    "    params_dict[str(s)] = acc"
   ]
  },
  {
   "cell_type": "markdown",
   "metadata": {},
   "source": [
    "Some functions."
   ]
  },
  {
   "cell_type": "code",
   "execution_count": 3,
   "metadata": {},
   "outputs": [],
   "source": [
    "NAS_BENCH_201         = ['none', 'skip_connect', 'nor_conv_1x1', 'nor_conv_3x3', 'avg_pool_3x3']\n",
    "def generate_arch(structure):\n",
    "    NAS_BENCH_201 = ['none', 'skip_connect', 'nor_conv_1x1', 'nor_conv_3x3', 'avg_pool_3x3']\n",
    "    strings = []\n",
    "    for i in range(3):\n",
    "        \n",
    "        string = '|'.join([NAS_BENCH_201[structure[i][k]]+'~{:}'.format(k) for k in range(i+1)])\n",
    "        string = '|{:}|'.format(string)\n",
    "        strings.append( string )\n",
    "    return '+'.join(strings)"
   ]
  },
  {
   "cell_type": "markdown",
   "metadata": {},
   "source": [
    "Selection."
   ]
  },
  {
   "cell_type": "code",
   "execution_count": 4,
   "metadata": {},
   "outputs": [
    {
     "name": "stdout",
     "output_type": "stream",
     "text": [
      "Valid accuracy: [91.5533333235677, 91.42266665120444, 91.49599997884116, 91.42266665120444, 91.60666665039064]\n",
      "Test accuracy: [94.36333333333334, 94.29333333333334, 94.37333333333333, 94.29333333333334, 94.37333333333333]\n"
     ]
    }
   ],
   "source": [
    "names = ['record_cifar10_17_16_80000_0_256_64_4_1_50_0.5_0.0_']\n",
    "steps = [50]\n",
    "max_params = 1.5315459999999999\n",
    "alpha = 1.4\n",
    "beta = 5.2\n",
    "T = 10000\n",
    "Total = 80000\n",
    "randids = ['111','222','333','444','555']\n",
    "for name,st in zip(names,steps):\n",
    "    corr = []\n",
    "    params_loss_sets = []\n",
    "    for randid in randids:\n",
    "        estimat_dict = {}\n",
    "        params_loss_set = []\n",
    "        for idxxx in range((Total-T)//st,Total//st):\n",
    "            with open('../archive/nasbench_results/'+name+randid+ '/%06d-ep.txt'%((idxxx+1)*st),'r') as tt:\n",
    "                history = json.load(tt)\n",
    "            sorted_history = sorted(history,key=lambda x: \\\n",
    "                              x[1] if x[2] >= 1 else 100, reverse=False)\n",
    "            \n",
    "            \n",
    "            for structure,loss,count in sorted_history[:1]:\n",
    "                arch = generate_arch(structure)\n",
    "                cos = params_dict[str(structure)]\n",
    "                if arch not in estimat_dict:\n",
    "                    estimat_dict[arch] = \\\n",
    "                {'loss_set':[loss],'count':1,'number_rep':structure,'params':cos}\n",
    "                else:\n",
    "                    if estimat_dict[arch]['loss_set'][-1] != loss:\n",
    "                        estimat_dict[arch]['loss_set'].append(loss)\n",
    "                        estimat_dict[arch]['count'] += 1\n",
    "        \n",
    "        final_acc_set = []\n",
    "        for arch in estimat_dict:\n",
    "            if estimat_dict[arch]['count'] >= 1:\n",
    "                loss = estimat_dict[arch]['loss_set'][-1]\n",
    "                loss = loss + alpha * np.exp(-beta * estimat_dict[arch]['params']/max_params) \n",
    "                final_acc_set.append([loss,estimat_dict[arch]['number_rep']])\n",
    "                params_loss_set.append([estimat_dict[arch]['params'],loss,estimat_dict[arch]['number_rep']])\n",
    "        params_loss_set.sort()\n",
    "        params_loss_sets.append(params_loss_set)\n",
    "        final_acc_set.sort()\n",
    "        new_accuracy_set = []\n",
    "    \n",
    "    top_acc1s_valid = []\n",
    "    top_acc1s = []\n",
    "    for k,randid in enumerate(randids):\n",
    "        top_acc1 = []\n",
    "        lowest_p = 100\n",
    "        bests = []\n",
    "        best_pareto = 0\n",
    "        for indx,params in enumerate(params_loss_sets[k]):\n",
    "            if params[1] <= lowest_p:\n",
    "                lowest_p = params[1] \n",
    "                bests.append(params)\n",
    "        new_acc_valid = structure_dict_valid[str(bests[-1][2])]\n",
    "        new_acc = structure_dict[str(bests[-1][2])]\n",
    "        top_acc1s_valid.append(new_acc_valid)\n",
    "        top_acc1s.append(new_acc)\n",
    "    print('Valid accuracy:',top_acc1s_valid)\n",
    "    print('Test accuracy:',top_acc1s)"
   ]
  },
  {
   "cell_type": "code",
   "execution_count": null,
   "metadata": {},
   "outputs": [],
   "source": []
  }
 ],
 "metadata": {
  "kernelspec": {
   "display_name": "Python 3",
   "language": "python",
   "name": "python3"
  },
  "language_info": {
   "codemirror_mode": {
    "name": "ipython",
    "version": 3
   },
   "file_extension": ".py",
   "mimetype": "text/x-python",
   "name": "python",
   "nbconvert_exporter": "python",
   "pygments_lexer": "ipython3",
   "version": "3.7.6"
  }
 },
 "nbformat": 4,
 "nbformat_minor": 4
}
