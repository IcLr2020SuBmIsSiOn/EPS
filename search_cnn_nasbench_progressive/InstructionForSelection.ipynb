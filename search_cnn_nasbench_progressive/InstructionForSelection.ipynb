{
 "cells": [
  {
   "cell_type": "code",
   "execution_count": 1,
   "metadata": {},
   "outputs": [],
   "source": [
    "import json\n",
    "import numpy as np"
   ]
  },
  {
   "cell_type": "markdown",
   "metadata": {},
   "source": [
    "Load the CIFAR-10 structures testing accuracy, valid accuracy, parameter sizes."
   ]
  },
  {
   "cell_type": "code",
   "execution_count": 2,
   "metadata": {},
   "outputs": [],
   "source": [
    "with open('../data/all_structure_accuracy.json') as tt:\n",
    "    structure = json.load(tt)\n",
    "structure_dict = {}\n",
    "for s,acc in structure:\n",
    "    structure_dict[str(s)] = acc\n",
    "with open('../data/all_structure_valid_accuracy.json') as tt:\n",
    "    structure = json.load(tt)\n",
    "structure_dict_valid = {}\n",
    "for s,acc in structure:\n",
    "    structure_dict_valid[str(s)] = acc\n",
    "with open('../data/all_structure_params.json') as tt:\n",
    "    structure = json.load(tt)\n",
    "params_dict = {}\n",
    "for s,acc in structure:\n",
    "    params_dict[str(s)] = acc"
   ]
  },
  {
   "cell_type": "code",
   "execution_count": 75,
   "metadata": {},
   "outputs": [],
   "source": [
    "accs = []\n",
    "for i in structure_dict_valid:\n",
    "    accs.append(structure_dict_valid[i])"
   ]
  },
  {
   "cell_type": "code",
   "execution_count": 76,
   "metadata": {},
   "outputs": [],
   "source": [
    "accs = np.asarray(accs)"
   ]
  },
  {
   "cell_type": "code",
   "execution_count": 77,
   "metadata": {},
   "outputs": [],
   "source": [
    "accs.sort()"
   ]
  },
  {
   "cell_type": "code",
   "execution_count": 93,
   "metadata": {
    "scrolled": true
   },
   "outputs": [
    {
     "data": {
      "text/plain": [
       "89.80349460528281"
      ]
     },
     "execution_count": 93,
     "metadata": {},
     "output_type": "execute_result"
    }
   ],
   "source": [
    "np.mean(accs[12500:])"
   ]
  },
  {
   "cell_type": "code",
   "execution_count": 89,
   "metadata": {},
   "outputs": [
    {
     "data": {
      "text/plain": [
       "12500.0"
      ]
     },
     "execution_count": 89,
     "metadata": {},
     "output_type": "execute_result"
    }
   ],
   "source": [
    "15625*80/100"
   ]
  },
  {
   "cell_type": "markdown",
   "metadata": {},
   "source": [
    "Some functions."
   ]
  },
  {
   "cell_type": "code",
   "execution_count": 3,
   "metadata": {},
   "outputs": [],
   "source": [
    "NAS_BENCH_201         = ['none', 'skip_connect', 'nor_conv_1x1', 'nor_conv_3x3', 'avg_pool_3x3']\n",
    "def generate_arch(structure):\n",
    "    NAS_BENCH_201 = ['none', 'skip_connect', 'nor_conv_1x1', 'nor_conv_3x3', 'avg_pool_3x3']\n",
    "    strings = []\n",
    "    for i in range(3):\n",
    "        \n",
    "        string = '|'.join([NAS_BENCH_201[structure[i][k]]+'~{:}'.format(k) for k in range(i+1)])\n",
    "        string = '|{:}|'.format(string)\n",
    "        strings.append( string )\n",
    "    return '+'.join(strings)"
   ]
  },
  {
   "cell_type": "markdown",
   "metadata": {},
   "source": [
    "Selection."
   ]
  },
  {
   "cell_type": "code",
   "execution_count": 99,
   "metadata": {},
   "outputs": [
    {
     "name": "stdout",
     "output_type": "stream",
     "text": [
      "Valid accuracy: [91.5533333235677, 90.97999999267579, 91.33599998535156, 91.60666665039064, 91.17999998046875]\n",
      "Test accuracy: [94.36333333333334, 93.48, 94.08, 94.37333333333333, 93.7]\n"
     ]
    }
   ],
   "source": [
    "names = ['record_cifar10_17_16_80000_0_256_64_4_1_50_0.5_0.0_']\n",
    "steps = [50]\n",
    "max_params = 1.5315459999999999\n",
    "alpha = 1.4\n",
    "# alpha = 0\n",
    "beta = 5.2\n",
    "T = 10000\n",
    "Total = 80000\n",
    "randids = ['111','222','333','444','555']\n",
    "for name,st in zip(names,steps):\n",
    "    corr = []\n",
    "    params_loss_sets = []\n",
    "    for randid in randids:\n",
    "        estimat_dict = {}\n",
    "        params_loss_set = []\n",
    "        for idxxx in range((Total-T)//st,Total//st):\n",
    "            with open('./'+name+randid+ '/%06d-ep.txt'%((idxxx+1)*st),'r') as tt:\n",
    "                history = json.load(tt)\n",
    "            sorted_history = sorted(history,key=lambda x: \\\n",
    "                              x[1] if x[2] >= 1 else 100, reverse=False)\n",
    "            \n",
    "            \n",
    "            for structure,loss,count in sorted_history[:1]:\n",
    "                arch = generate_arch(structure)\n",
    "                cos = params_dict[str(structure)]\n",
    "                if arch not in estimat_dict:\n",
    "                    estimat_dict[arch] = \\\n",
    "                {'loss_set':[loss],'count':1,'number_rep':structure,'params':cos}\n",
    "                else:\n",
    "                    if estimat_dict[arch]['loss_set'][-1] != loss:\n",
    "                        estimat_dict[arch]['loss_set'].append(loss)\n",
    "                        estimat_dict[arch]['count'] += 1\n",
    "        \n",
    "        final_acc_set = []\n",
    "        for arch in estimat_dict:\n",
    "            if estimat_dict[arch]['count'] >= 1:\n",
    "                loss = estimat_dict[arch]['loss_set'][-1]\n",
    "                loss = loss + alpha * np.exp(-beta * estimat_dict[arch]['params']/max_params) \n",
    "                final_acc_set.append([loss,estimat_dict[arch]['number_rep']])\n",
    "                params_loss_set.append([estimat_dict[arch]['params'],loss,estimat_dict[arch]['number_rep']])\n",
    "        params_loss_set.sort()\n",
    "        params_loss_sets.append(params_loss_set)\n",
    "        final_acc_set.sort()\n",
    "        new_accuracy_set = []\n",
    "    \n",
    "    top_acc1s_valid = []\n",
    "    top_acc1s = []\n",
    "    for k,randid in enumerate(randids):\n",
    "        top_acc1 = []\n",
    "        lowest_p = 100\n",
    "        bests = []\n",
    "        best_pareto = 0\n",
    "        for indx,params in enumerate(params_loss_sets[k]):\n",
    "            if params[1] <= lowest_p:\n",
    "                lowest_p = params[1] \n",
    "                bests.append(params)\n",
    "        new_acc_valid = structure_dict_valid[str(bests[-1][2])]\n",
    "        new_acc = structure_dict[str(bests[-1][2])]\n",
    "        top_acc1s_valid.append(new_acc_valid)\n",
    "        top_acc1s.append(new_acc)\n",
    "    print('Valid accuracy:',top_acc1s_valid)\n",
    "    print('Test accuracy:',top_acc1s)"
   ]
  },
  {
   "cell_type": "code",
   "execution_count": 101,
   "metadata": {},
   "outputs": [
    {
     "data": {
      "text/plain": [
       "91.3311999864909"
      ]
     },
     "execution_count": 101,
     "metadata": {},
     "output_type": "execute_result"
    }
   ],
   "source": [
    "np.mean(top_acc1s_valid)"
   ]
  },
  {
   "cell_type": "code",
   "execution_count": 21,
   "metadata": {},
   "outputs": [],
   "source": [
    "%matplotlib inline\n",
    "import matplotlib\n",
    "import matplotlib.pyplot as plt\n",
    "import numpy as np"
   ]
  },
  {
   "cell_type": "code",
   "execution_count": 22,
   "metadata": {},
   "outputs": [],
   "source": [
    "all_params = np.asarray(params_loss_sets[0])"
   ]
  },
  {
   "cell_type": "code",
   "execution_count": 23,
   "metadata": {},
   "outputs": [
    {
     "data": {
      "text/plain": [
       "Text(0, 0.5, 'loss')"
      ]
     },
     "execution_count": 23,
     "metadata": {},
     "output_type": "execute_result"
    },
    {
     "data": {
      "image/png": "[encoded data removed]",
      "text/plain": [
       "<Figure size 432x288 with 1 Axes>"
      ]
     },
     "metadata": {
      "needs_background": "light"
     },
     "output_type": "display_data"
    }
   ],
   "source": [
    "plt.scatter(all_params[:,0],all_params[:,1])\n",
    "plt.xlabel('params size')\n",
    "plt.ylabel('loss')"
   ]
  },
  {
   "cell_type": "code",
   "execution_count": 17,
   "metadata": {},
   "outputs": [
    {
     "data": {
      "text/plain": [
       "Text(0, 0.5, 'loss')"
      ]
     },
     "execution_count": 17,
     "metadata": {},
     "output_type": "execute_result"
    },
    {
     "data": {
      "image/png": "[encoded data removed]",
      "text/plain": [
       "<Figure size 432x288 with 1 Axes>"
      ]
     },
     "metadata": {
      "needs_background": "light"
     },
     "output_type": "display_data"
    }
   ],
   "source": [
    "plt.scatter(all_params[:,0],all_params[:,1])\n",
    "\n",
    "plt.xlabel('params size')\n",
    "plt.ylabel('loss')"
   ]
  },
  {
   "cell_type": "code",
   "execution_count": 18,
   "metadata": {
    "scrolled": true
   },
   "outputs": [
    {
     "data": {
      "text/plain": [
       "array([[0.344346, 0.8611844182014465, list([[0], [2, 1], [1, 0, 3]])],\n",
       "       [0.344346, 0.8883010745048523, list([[2], [1, 4], [1, 0, 3]])],\n",
       "       [0.372346, 0.8672560453414917, list([[2], [3, 0], [1, 4, 2]])],\n",
       "       [0.372346, 0.8860267996788025, list([[0], [3, 2], [1, 0, 2]])],\n",
       "       [0.559386, 0.836763858795166, list([[0], [3, 0], [1, 0, 3]])],\n",
       "       [0.559386, 0.8470867872238159, list([[3], [1, 4], [1, 3, 0]])],\n",
       "       [0.559386, 0.8524892926216125, list([[0], [3, 0], [1, 1, 3]])],\n",
       "       [0.559386, 0.8547875285148621, list([[3], [1, 1], [0, 3, 1]])],\n",
       "       [0.559386, 0.8656993508338928, list([[3], [0, 1], [1, 3, 4]])],\n",
       "       [0.559386, 0.875960111618042, list([[3], [1, 1], [1, 1, 3]])],\n",
       "       [0.559386, 0.8840680122375488, list([[1], [3, 0], [1, 0, 3]])],\n",
       "       [0.559386, 0.88724684715271, list([[4], [3, 1], [1, 0, 3]])],\n",
       "       [0.587386, 0.8386846780776978, list([[3], [2, 0], [1, 1, 3]])],\n",
       "       [0.587386, 0.8567502498626709, list([[1], [3, 2], [0, 1, 3]])],\n",
       "       [0.587386, 0.8608839511871338, list([[3], [3, 1], [1, 0, 2]])],\n",
       "       [0.587386, 0.8649426698684692, list([[2], [3, 1], [1, 0, 3]])],\n",
       "       [0.587386, 0.8686932325363159, list([[3], [1, 0], [1, 2, 3]])],\n",
       "       [0.615386, 0.8323897123336792, list([[2], [3, 4], [1, 3, 2]])],\n",
       "       [0.615386, 0.848408801651001, list([[3], [2, 2], [1, 0, 3]])],\n",
       "       [0.615386, 0.86496502161026, list([[3], [2, 2], [1, 4, 3]])],\n",
       "       [0.615386, 0.8655852675437927, list([[3], [2, 4], [1, 2, 3]])],\n",
       "       [0.615386, 0.8665794730186462, list([[3], [3, 0], [1, 2, 2]])],\n",
       "       [0.615386, 0.868157684803009, list([[3], [3, 1], [1, 2, 2]])],\n",
       "       [0.802426, 0.8151005506515503, list([[3], [1, 1], [1, 3, 3]])],\n",
       "       [0.802426, 0.8193798065185547, list([[0], [3, 3], [1, 0, 3]])],\n",
       "       [0.802426, 0.8340488076210022, list([[1], [3, 3], [1, 0, 3]])],\n",
       "       [0.802426, 0.8518403768539429, list([[3], [3, 1], [1, 1, 3]])],\n",
       "       [0.802426, 0.8667535185813904, list([[3], [3, 4], [1, 3, 4]])],\n",
       "       [0.802426, 0.8673409223556519, list([[3], [0, 1], [1, 3, 3]])],\n",
       "       [0.802426, 0.8690261840820312, list([[4], [3, 3], [1, 0, 3]])],\n",
       "       [0.802426, 0.8739125728607178, list([[3], [3, 3], [1, 1, 4]])],\n",
       "       [0.830426, 0.8480346202850342, list([[3], [3, 2], [1, 4, 3]])],\n",
       "       [0.830426, 0.8545522689819336, list([[3], [3, 2], [1, 1, 3]])],\n",
       "       [0.830426, 0.8571609854698181, list([[3], [3, 0], [1, 3, 2]])],\n",
       "       [0.830426, 0.862237811088562, list([[3], [3, 0], [1, 2, 3]])],\n",
       "       [0.830426, 0.8656412959098816, list([[3], [2, 3], [1, 3, 1]])],\n",
       "       [0.830426, 0.869373083114624, list([[0], [3, 2], [1, 3, 3]])],\n",
       "       [0.830426, 0.8699427247047424, list([[3], [4, 3], [1, 3, 2]])],\n",
       "       [0.830426, 0.8699467182159424, list([[3], [1, 3], [1, 2, 3]])],\n",
       "       [0.830426, 0.8737796545028687, list([[3], [3, 4], [1, 3, 2]])],\n",
       "       [0.858426, 0.8538929224014282, list([[3], [3, 2], [1, 3, 2]])],\n",
       "       [1.045466, 0.8359920978546143, list([[3], [3, 3], [1, 4, 3]])],\n",
       "       [1.045466, 0.8530922532081604, list([[0], [3, 3], [1, 3, 3]])],\n",
       "       [1.073466, 0.8537166118621826, list([[3], [2, 3], [1, 3, 3]])],\n",
       "       [1.073466, 0.8669416904449463, list([[3], [3, 2], [1, 3, 3]])],\n",
       "       [1.288506, 0.8518990278244019, list([[3], [3, 3], [1, 3, 3]])]],\n",
       "      dtype=object)"
      ]
     },
     "execution_count": 18,
     "metadata": {},
     "output_type": "execute_result"
    }
   ],
   "source": [
    "all_params"
   ]
  },
  {
   "cell_type": "code",
   "execution_count": 26,
   "metadata": {},
   "outputs": [
    {
     "data": {
      "text/plain": [
       "[3, 1, 3, 1, 2, 3]"
      ]
     },
     "execution_count": 26,
     "metadata": {},
     "output_type": "execute_result"
    }
   ],
   "source": [
    "flat_list = [item for sublist in [[3], [1, 3], [1, 2, 3]] for item in sublist]\n",
    "flat_list"
   ]
  },
  {
   "cell_type": "code",
   "execution_count": 27,
   "metadata": {},
   "outputs": [],
   "source": [
    "import torch"
   ]
  },
  {
   "cell_type": "code",
   "execution_count": 36,
   "metadata": {},
   "outputs": [],
   "source": [
    "a = torch.rand(2,5)"
   ]
  },
  {
   "cell_type": "code",
   "execution_count": 33,
   "metadata": {},
   "outputs": [
    {
     "ename": "RuntimeError",
     "evalue": "The expanded size of the tensor (5) must match the existing size (6) at non-singleton dimension 0.  Target sizes: [5].  Tensor sizes: [6]",
     "output_type": "error",
     "traceback": [
      "\u001b[0;31m---------------------------------------------------------------------------\u001b[0m",
      "\u001b[0;31mRuntimeError\u001b[0m                              Traceback (most recent call last)",
      "\u001b[0;32m<ipython-input-33-50657db4c807>\u001b[0m in \u001b[0;36m<module>\u001b[0;34m\u001b[0m\n\u001b[0;32m----> 1\u001b[0;31m \u001b[0ma\u001b[0m\u001b[0;34m[\u001b[0m\u001b[0;36m1\u001b[0m\u001b[0;34m]\u001b[0m\u001b[0;34m[\u001b[0m\u001b[0;34m:\u001b[0m\u001b[0;34m]\u001b[0m \u001b[0;34m=\u001b[0m \u001b[0mtorch\u001b[0m\u001b[0;34m.\u001b[0m\u001b[0mtensor\u001b[0m\u001b[0;34m(\u001b[0m\u001b[0mflat_list\u001b[0m\u001b[0;34m)\u001b[0m\u001b[0;34m\u001b[0m\u001b[0;34m\u001b[0m\u001b[0m\n\u001b[0m",
      "\u001b[0;31mRuntimeError\u001b[0m: The expanded size of the tensor (5) must match the existing size (6) at non-singleton dimension 0.  Target sizes: [5].  Tensor sizes: [6]"
     ]
    }
   ],
   "source": [
    "a[1][:] = torch.tensor(flat_list)"
   ]
  },
  {
   "cell_type": "code",
   "execution_count": 47,
   "metadata": {},
   "outputs": [
    {
     "data": {
      "text/plain": [
       "tensor([[0.5183, 0.7542],\n",
       "        [0.3468, 0.6748]])"
      ]
     },
     "execution_count": 47,
     "metadata": {},
     "output_type": "execute_result"
    }
   ],
   "source": [
    "a[:,a[0] > 0.5]"
   ]
  },
  {
   "cell_type": "code",
   "execution_count": 45,
   "metadata": {},
   "outputs": [
    {
     "data": {
      "text/plain": [
       "tensor([False, False,  True,  True, False])"
      ]
     },
     "execution_count": 45,
     "metadata": {},
     "output_type": "execute_result"
    }
   ],
   "source": [
    "a[0] > 0.5"
   ]
  },
  {
   "cell_type": "code",
   "execution_count": 49,
   "metadata": {},
   "outputs": [
    {
     "data": {
      "text/plain": [
       "0"
      ]
     },
     "execution_count": 49,
     "metadata": {},
     "output_type": "execute_result"
    }
   ],
   "source": [
    "int(a[0].argmin())"
   ]
  },
  {
   "cell_type": "code",
   "execution_count": 107,
   "metadata": {
    "scrolled": true
   },
   "outputs": [
    {
     "data": {
      "image/png": "[encoded data removed]",
      "text/plain": [
       "<Figure size 432x288 with 1 Axes>"
      ]
     },
     "metadata": {
      "needs_background": "light"
     },
     "output_type": "display_data"
    }
   ],
   "source": [
    "plt.hist(accs,200)\n",
    "plt.xlabel('Accuracy(%)')\n",
    "plt.savefig('nashist.pdf')"
   ]
  },
  {
   "cell_type": "code",
   "execution_count": null,
   "metadata": {},
   "outputs": [],
   "source": []
  }
 ],
 "metadata": {
  "kernelspec": {
   "display_name": "Python 3",
   "language": "python",
   "name": "python3"
  },
  "language_info": {
   "codemirror_mode": {
    "name": "ipython",
    "version": 3
   },
   "file_extension": ".py",
   "mimetype": "text/x-python",
   "name": "python",
   "nbconvert_exporter": "python",
   "pygments_lexer": "ipython3",
   "version": "3.7.6"
  }
 },
 "nbformat": 4,
 "nbformat_minor": 4
}
